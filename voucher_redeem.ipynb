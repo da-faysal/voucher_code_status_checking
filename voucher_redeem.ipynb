{
 "cells": [
  {
   "cell_type": "code",
   "execution_count": 1,
   "id": "15140216",
   "metadata": {},
   "outputs": [],
   "source": [
    "# Import required  modules\n",
    "from selenium import webdriver\n",
    "from selenium.webdriver.common.by import By\n",
    "from selenium.webdriver.support.ui import WebDriverWait\n",
    "from selenium.webdriver.support import expected_conditions as EC\n",
    "import pandas as pd\n",
    "import time"
   ]
  },
  {
   "cell_type": "code",
   "execution_count": 2,
   "id": "44db3927",
   "metadata": {},
   "outputs": [
    {
     "data": {
      "text/html": [
       "<div>\n",
       "<style scoped>\n",
       "    .dataframe tbody tr th:only-of-type {\n",
       "        vertical-align: middle;\n",
       "    }\n",
       "\n",
       "    .dataframe tbody tr th {\n",
       "        vertical-align: top;\n",
       "    }\n",
       "\n",
       "    .dataframe thead th {\n",
       "        text-align: right;\n",
       "    }\n",
       "</style>\n",
       "<table border=\"1\" class=\"dataframe\">\n",
       "  <thead>\n",
       "    <tr style=\"text-align: right;\">\n",
       "      <th></th>\n",
       "      <th>Voucher Code</th>\n",
       "    </tr>\n",
       "  </thead>\n",
       "  <tbody>\n",
       "    <tr>\n",
       "      <th>0</th>\n",
       "      <td>HYP-SHUPF</td>\n",
       "    </tr>\n",
       "    <tr>\n",
       "      <th>1</th>\n",
       "      <td>HYP-68S8K</td>\n",
       "    </tr>\n",
       "    <tr>\n",
       "      <th>2</th>\n",
       "      <td>HYP-UA297</td>\n",
       "    </tr>\n",
       "    <tr>\n",
       "      <th>3</th>\n",
       "      <td>HYP-AYLE1</td>\n",
       "    </tr>\n",
       "    <tr>\n",
       "      <th>4</th>\n",
       "      <td>HYP-NE7OO</td>\n",
       "    </tr>\n",
       "  </tbody>\n",
       "</table>\n",
       "</div>"
      ],
      "text/plain": [
       "  Voucher Code\n",
       "0    HYP-SHUPF\n",
       "1    HYP-68S8K\n",
       "2    HYP-UA297\n",
       "3    HYP-AYLE1\n",
       "4    HYP-NE7OO"
      ]
     },
     "execution_count": 2,
     "metadata": {},
     "output_type": "execute_result"
    }
   ],
   "source": [
    "# Voucher code to check\n",
    "voucher_df = pd.read_csv(\"Hyperli One Education Voucher codes - Sheet1.csv\")\n",
    "voucher_df.head()"
   ]
  },
  {
   "cell_type": "code",
   "execution_count": 3,
   "id": "f2a83415",
   "metadata": {},
   "outputs": [],
   "source": [
    "# Initialize the driver\n",
    "driver = webdriver.Chrome(\"/home/faysal/Documents/utilities/chromedriver\")\n",
    "\n",
    "# Open the link in the browser\n",
    "driver.get(\"https://portal.hyperli.com/redeem-voucher\")\n",
    "\n",
    "# Wait for 40 seconds so that user can log in by himself\n",
    "time.sleep(40)"
   ]
  },
  {
   "cell_type": "code",
   "execution_count": 4,
   "id": "0d9de1a8",
   "metadata": {},
   "outputs": [],
   "source": [
    "# Function to get the voucher status text\n",
    "def get_voucher_status(voucher_code):\n",
    "    \n",
    "    # Find the input element tag\n",
    "    inputElement = driver.find_element_by_id(\"voucherCode\")\n",
    "    \n",
    "    # Input the voucher code\n",
    "    inputElement.send_keys(voucher_code)\n",
    "    \n",
    "    #  Send voucher code to the server\n",
    "    inputElement.submit()\n",
    "    time.sleep(5)\n",
    "    \n",
    "    # Explicitly wait 10 seconds for the element to appear\n",
    "    try:\n",
    "        req_text = WebDriverWait(driver, 10).until(\n",
    "        EC.visibility_of_element_located((By.ID, \"toast-container\"))).text.strip()\n",
    "        temp_df = pd.DataFrame({\n",
    "            \"voucher_code\":voucher_code,\n",
    "            \"status\":req_text # Code status text\n",
    "        }, index=[0])\n",
    "    except:\n",
    "        temp_df = pd.DataFrame({\n",
    "            \"voucher_code\":voucher_code,\n",
    "            \"status\":\"na\" # If an exception raises\n",
    "        }, index=[0])\n",
    "    return temp_df"
   ]
  },
  {
   "cell_type": "code",
   "execution_count": 5,
   "id": "e03a8500",
   "metadata": {},
   "outputs": [],
   "source": [
    "# Wrap all the function inside main\n",
    "def main(start, end, file_name):\n",
    "    final_df = pd.concat(list(map(get_voucher_status, voucher_df[\"Voucher Code\"].iloc[start:end]))).reset_index(drop=True)\n",
    "    final_df.status = final_df.status.str.split(\"\\n\").str[-1].str.strip()\n",
    "    final_df.to_csv(f\"{file_name}_{start}_{end}.csv\", index=None)\n",
    "    return final_df"
   ]
  },
  {
   "cell_type": "code",
   "execution_count": null,
   "id": "41481fcf",
   "metadata": {},
   "outputs": [],
   "source": [
    "# Apply the function\n",
    "df = main(0, 100, \"faysal\")\n",
    "df.head(10)"
   ]
  }
 ],
 "metadata": {
  "kernelspec": {
   "display_name": "Python 3",
   "language": "python",
   "name": "python3"
  },
  "language_info": {
   "codemirror_mode": {
    "name": "ipython",
    "version": 3
   },
   "file_extension": ".py",
   "mimetype": "text/x-python",
   "name": "python",
   "nbconvert_exporter": "python",
   "pygments_lexer": "ipython3",
   "version": "3.8.8"
  }
 },
 "nbformat": 4,
 "nbformat_minor": 5
}
